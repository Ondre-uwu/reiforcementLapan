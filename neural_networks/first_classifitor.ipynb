{
 "cells": [
  {
   "cell_type": "code",
   "execution_count": 17,
   "id": "initial_id",
   "metadata": {
    "collapsed": true,
    "ExecuteTime": {
     "end_time": "2024-07-09T23:38:04.467104Z",
     "start_time": "2024-07-09T23:38:04.445148Z"
    }
   },
   "outputs": [],
   "source": [
    "import matplotlib.pyplot as plt\n",
    "import torch\n",
    "import matplotlib\n",
    "%matplotlib inline\n",
    "matplotlib.rcParams['figure.figsize'] = (16.0, 7.0)\n",
    "#set all background colors of plot to white in matplotlib\n",
    "matplotlib.rcParams['axes.facecolor'] = 'white'\n",
    "matplotlib.rcParams['axes.edgecolor'] = 'white'\n",
    "matplotlib.rcParams['axes.labelcolor'] = 'black'\n",
    "import random\n",
    "import numpy as np\n",
    "\n",
    "\n",
    "random.seed(42)\n",
    "np.random.seed(42)\n",
    "torch.manual_seed(42)\n",
    "torch.cuda.manual_seed(42)\n",
    "torch.mps.manual_seed(42)\n",
    "torch.backends.cudnn.deterministic = True\n",
    "torch.backends.mps.deterministic = True\n"
   ]
  },
  {
   "cell_type": "code",
   "outputs": [],
   "source": [
    "import tqdm.notebook as tqdm"
   ],
   "metadata": {
    "collapsed": false,
    "ExecuteTime": {
     "end_time": "2024-07-09T23:38:04.470700Z",
     "start_time": "2024-07-09T23:38:04.468442Z"
    }
   },
   "id": "1a6f04ebeece8c90",
   "execution_count": 18
  },
  {
   "cell_type": "code",
   "outputs": [
    {
     "data": {
      "text/plain": "(178, 13)"
     },
     "execution_count": 19,
     "metadata": {},
     "output_type": "execute_result"
    }
   ],
   "source": [
    "import sklearn.datasets\n",
    "wine = sklearn.datasets.load_wine()\n",
    "wine.data.shape"
   ],
   "metadata": {
    "collapsed": false,
    "ExecuteTime": {
     "end_time": "2024-07-09T23:38:04.476690Z",
     "start_time": "2024-07-09T23:38:04.471344Z"
    }
   },
   "id": "86209d09ca73aeb7",
   "execution_count": 19
  },
  {
   "cell_type": "code",
   "outputs": [],
   "source": [
    "from sklearn.model_selection import train_test_split\n",
    "X_train, X_test, y_train, y_test = train_test_split(wine.data, wine.target, test_size=0.3, shuffle=True)\n"
   ],
   "metadata": {
    "collapsed": false,
    "ExecuteTime": {
     "end_time": "2024-07-09T23:38:04.480669Z",
     "start_time": "2024-07-09T23:38:04.478226Z"
    }
   },
   "id": "6917bdc1dd7ed051",
   "execution_count": 20
  },
  {
   "cell_type": "code",
   "outputs": [],
   "source": [
    "X_train_tensor = torch.FloatTensor(X_train)\n",
    "X_test_tensor = torch.FloatTensor(X_test)\n",
    "y_train_tensor = torch.LongTensor(y_train)\n",
    "y_test_tensor = torch.LongTensor(y_test)"
   ],
   "metadata": {
    "collapsed": false,
    "ExecuteTime": {
     "end_time": "2024-07-09T23:38:04.484674Z",
     "start_time": "2024-07-09T23:38:04.481649Z"
    }
   },
   "id": "431164e31334bd53",
   "execution_count": 21
  },
  {
   "cell_type": "code",
   "outputs": [],
   "source": [
    "class WineNet(torch.nn.Module):\n",
    "    def __init__(self, n_hidden):\n",
    "        super(WineNet, self).__init__()\n",
    "        self.fc1 = torch.nn.Linear(13, n_hidden)\n",
    "        self.act1 = torch.nn.Sigmoid()\n",
    "        self.fc2 = torch.nn.Linear(n_hidden, n_hidden)\n",
    "        self.act2 = torch.nn.Sigmoid()\n",
    "        self.fc3 = torch.nn.Linear(n_hidden, 3)\n",
    "        self.sm = torch.nn.Softmax(dim=1)\n",
    "        \n",
    "    def forward(self, x):\n",
    "        x = self.fc1(x)\n",
    "        x = self.act1(x)\n",
    "        x = self.fc2(x)\n",
    "        x = self.act2(x)\n",
    "        x = self.fc3(x)\n",
    "        \"\"\"\n",
    "        We don't use softmax here because we are going to use cross-entropy loss, which implicitly performs softmax\n",
    "        \"\"\"\n",
    "        return x\n",
    "    \n",
    "    def inference(self, x):\n",
    "        x = self.forward(x)\n",
    "        x = self.sm(x)\n",
    "        return x\n",
    "    "
   ],
   "metadata": {
    "collapsed": false,
    "ExecuteTime": {
     "end_time": "2024-07-09T23:38:04.489762Z",
     "start_time": "2024-07-09T23:38:04.485839Z"
    }
   },
   "id": "d74579d56e5a38d7",
   "execution_count": 22
  },
  {
   "cell_type": "code",
   "outputs": [],
   "source": [
    "wine_net = WineNet(5)"
   ],
   "metadata": {
    "collapsed": false,
    "ExecuteTime": {
     "end_time": "2024-07-09T23:38:04.495364Z",
     "start_time": "2024-07-09T23:38:04.490535Z"
    }
   },
   "id": "f906e4d7e2cf0f13",
   "execution_count": 23
  },
  {
   "cell_type": "code",
   "outputs": [],
   "source": [
    "loss = torch.nn.CrossEntropyLoss()\n",
    "optimizer = torch.optim.Adam(wine_net.parameters(), lr=1.0e-3)"
   ],
   "metadata": {
    "collapsed": false,
    "ExecuteTime": {
     "end_time": "2024-07-09T23:38:04.499128Z",
     "start_time": "2024-07-09T23:38:04.495979Z"
    }
   },
   "id": "29bb5d1499cd7db2",
   "execution_count": 24
  },
  {
   "cell_type": "code",
   "outputs": [
    {
     "data": {
      "text/plain": "Epochs:   0%|          | 0/10000 [00:00<?, ?it/s]",
      "application/vnd.jupyter.widget-view+json": {
       "version_major": 2,
       "version_minor": 0,
       "model_id": "15ba31d39dde484a98bf38344dc4fb29"
      }
     },
     "metadata": {},
     "output_type": "display_data"
    },
    {
     "name": "stdout",
     "output_type": "stream",
     "text": [
      "tensor(0.2593)\n",
      "tensor(0.7222)\n",
      "tensor(0.7037)\n",
      "tensor(0.6852)\n",
      "tensor(0.7222)\n",
      "tensor(0.7222)\n",
      "tensor(0.7222)\n",
      "tensor(0.7222)\n",
      "tensor(0.7222)\n",
      "tensor(0.7222)\n",
      "tensor(0.6667)\n",
      "tensor(0.7222)\n",
      "tensor(0.6481)\n",
      "tensor(0.7222)\n",
      "tensor(0.6852)\n",
      "tensor(0.5741)\n",
      "tensor(0.7407)\n",
      "tensor(0.6852)\n",
      "tensor(0.5741)\n",
      "tensor(0.6296)\n",
      "tensor(0.7407)\n",
      "tensor(0.6111)\n",
      "tensor(0.7037)\n",
      "tensor(0.6111)\n",
      "tensor(0.6667)\n",
      "tensor(0.6481)\n",
      "tensor(0.6481)\n",
      "tensor(0.7593)\n",
      "tensor(0.6296)\n",
      "tensor(0.7778)\n",
      "tensor(0.7963)\n",
      "tensor(0.6852)\n",
      "tensor(0.6481)\n",
      "tensor(0.7037)\n",
      "tensor(0.7407)\n",
      "tensor(0.8148)\n",
      "tensor(0.7037)\n",
      "tensor(0.8333)\n",
      "tensor(0.8148)\n",
      "tensor(0.8148)\n",
      "tensor(0.8519)\n",
      "tensor(0.8148)\n",
      "tensor(0.7037)\n",
      "tensor(0.8333)\n",
      "tensor(0.7963)\n",
      "tensor(0.7778)\n",
      "tensor(0.8704)\n",
      "tensor(0.8519)\n",
      "tensor(0.8704)\n",
      "tensor(0.8519)\n",
      "tensor(0.8519)\n",
      "tensor(0.8704)\n",
      "tensor(0.8889)\n",
      "tensor(0.8704)\n",
      "tensor(0.8704)\n",
      "tensor(0.8519)\n",
      "tensor(0.8704)\n",
      "tensor(0.8148)\n",
      "tensor(0.8519)\n",
      "tensor(0.8704)\n",
      "tensor(0.8519)\n",
      "tensor(0.8704)\n",
      "tensor(0.8704)\n",
      "tensor(0.8519)\n",
      "tensor(0.7963)\n",
      "tensor(0.8704)\n",
      "tensor(0.8519)\n",
      "tensor(0.8519)\n",
      "tensor(0.8889)\n",
      "tensor(0.8704)\n",
      "tensor(0.8519)\n",
      "tensor(0.8704)\n",
      "tensor(0.8704)\n",
      "tensor(0.8704)\n",
      "tensor(0.8519)\n",
      "tensor(0.8333)\n",
      "tensor(0.8519)\n",
      "tensor(0.8704)\n",
      "tensor(0.8704)\n",
      "tensor(0.8889)\n",
      "tensor(0.8889)\n",
      "tensor(0.8889)\n",
      "tensor(0.9074)\n",
      "tensor(0.8889)\n",
      "tensor(0.8889)\n",
      "tensor(0.8704)\n",
      "tensor(0.8519)\n",
      "tensor(0.8704)\n",
      "tensor(0.8704)\n",
      "tensor(0.8519)\n",
      "tensor(0.8889)\n",
      "tensor(0.8704)\n",
      "tensor(0.8519)\n",
      "tensor(0.8889)\n",
      "tensor(0.8889)\n",
      "tensor(0.8519)\n",
      "tensor(0.8704)\n",
      "tensor(0.8704)\n",
      "tensor(0.8889)\n",
      "tensor(0.8519)\n"
     ]
    }
   ],
   "source": [
    "batch_size = 10\n",
    "\n",
    "for epoch in tqdm.tqdm(range(10000), \"Epochs\"):\n",
    "    order = np.random.permutation(len(X_train_tensor))\n",
    "    for start_index in range(0, len(X_train_tensor), batch_size):\n",
    "        optimizer.zero_grad()\n",
    "        \n",
    "        batch_indexes = order[start_index:start_index+batch_size]\n",
    "        X_batch = X_train_tensor[batch_indexes]\n",
    "        y_batch = y_train_tensor[batch_indexes]\n",
    "        \n",
    "        preds = wine_net.forward(X_batch)\n",
    "        loss_value = loss(preds, y_batch)\n",
    "        \n",
    "        loss_value.backward()\n",
    "        optimizer.step()\n",
    "        \n",
    "    if epoch % 100 == 0:\n",
    "        test_preds = wine_net.forward(X_test_tensor)\n",
    "        test_preds = test_preds.argmax(dim=1)\n",
    "        print((test_preds == y_test_tensor).float().mean())\n",
    "        \n",
    "    "
   ],
   "metadata": {
    "collapsed": false,
    "ExecuteTime": {
     "end_time": "2024-07-09T23:38:38.217885Z",
     "start_time": "2024-07-09T23:38:04.499726Z"
    }
   },
   "id": "93ab7513691973c",
   "execution_count": 25
  },
  {
   "cell_type": "code",
   "outputs": [
    {
     "name": "stderr",
     "output_type": "stream",
     "text": [
      "/var/folders/9w/5jg8q39j0lb50m13v89wlvbh0000gn/T/ipykernel_27149/1669927702.py:22: UserWarning: No data for colormapping provided via 'c'. Parameters 'cmap' will be ignored\n",
      "  plt.scatter(X_train[indexes, 0],\n"
     ]
    },
    {
     "data": {
      "text/plain": "<Figure size 1000x800 with 1 Axes>",
      "image/png": "[encoded data removed]"
     },
     "metadata": {},
     "output_type": "display_data"
    }
   ],
   "source": [
    "plt.rcParams['figure.figsize'] = (10, 8)\n",
    "\n",
    "n_classes = 3\n",
    "plot_colors = ['g', 'orange', 'red']\n",
    "plot_step = 0.02\n",
    "\n",
    "x_min, x_max = X_train[:, 0].min() - 1, X_train[:, 0].max() + 1\n",
    "y_min, y_max = X_train[:, 1].min() - 1, X_train[:, 1].max() + 1\n",
    "\n",
    "xx, yy =  torch.meshgrid(torch.arange(x_min, x_max, plot_step),\n",
    "                         torch.arange(y_min, y_max, plot_step))\n",
    "\n",
    "# preds = wine_net.inference(\n",
    "#     torch.cat([xx.reshape(-1, 1), yy.reshape(-1, 1)], dim=1))\n",
    "# \n",
    "# preds_class = preds.data.numpy().argmax(axis=1)\n",
    "# preds_class = preds_class.reshape(xx.shape)\n",
    "# plt.contourf(xx, yy, preds_class, cmap='Accent')\n",
    "\n",
    "for i, color in zip(range(n_classes), plot_colors):\n",
    "    indexes = np.where(y_train == i)\n",
    "    plt.scatter(X_train[indexes, 0], \n",
    "                X_train[indexes, 1], \n",
    "                c=color, \n",
    "                label=wine.target_names[i],\n",
    "                cmap='Accent')\n",
    "    plt.xlabel(wine.feature_names[0])\n",
    "    plt.ylabel(wine.feature_names[1])\n",
    "    plt.legend()"
   ],
   "metadata": {
    "collapsed": false,
    "ExecuteTime": {
     "end_time": "2024-07-09T23:39:34.930429Z",
     "start_time": "2024-07-09T23:39:34.812660Z"
    }
   },
   "id": "8daa96f52164fc41",
   "execution_count": 27
  },
  {
   "cell_type": "code",
   "outputs": [],
   "source": [],
   "metadata": {
    "collapsed": false,
    "ExecuteTime": {
     "end_time": "2024-07-09T23:38:38.355180Z",
     "start_time": "2024-07-09T23:38:38.355118Z"
    }
   },
   "id": "a220eef79824c2b"
  }
 ],
 "metadata": {
  "kernelspec": {
   "display_name": "Python 3",
   "language": "python",
   "name": "python3"
  },
  "language_info": {
   "codemirror_mode": {
    "name": "ipython",
    "version": 2
   },
   "file_extension": ".py",
   "mimetype": "text/x-python",
   "name": "python",
   "nbconvert_exporter": "python",
   "pygments_lexer": "ipython2",
   "version": "2.7.6"
  }
 },
 "nbformat": 4,
 "nbformat_minor": 5
}
